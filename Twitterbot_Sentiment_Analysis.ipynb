{
 "cells": [
  {
   "cell_type": "code",
   "execution_count": 14,
   "metadata": {
    "collapsed": true,
    "scrolled": false
   },
   "outputs": [],
   "source": [
    "# Dependencies\n",
    "import tweepy\n",
    "import twitconfig as cfg\n",
    "import os\n",
    "import json\n",
    "import pandas as pd\n",
    "import numpy as np\n",
    "import matplotlib.pyplot as plt\n",
    "from datetime import datetime\n",
    "import time\n",
    "\n",
    "# Import and Initialize Sentiment Analyzer\n",
    "from vaderSentiment.vaderSentiment import SentimentIntensityAnalyzer\n",
    "analyzer = SentimentIntensityAnalyzer()\n",
    "\n",
    "consumer_key=cfg.api_key\n",
    "consumer_secret=cfg.api_secret\n",
    "access_token=cfg.access_token\n",
    "access_token_secret=cfg.token_secret\n",
    "          \n",
    "\n",
    "# Setup Tweepy API Authentication\n",
    "auth = tweepy.OAuthHandler(consumer_key, consumer_secret)\n",
    "auth.set_access_token(access_token, access_token_secret)\n",
    "api = tweepy.API(auth, parser=tweepy.parsers.JSONParser())"
   ]
  },
  {
   "cell_type": "code",
   "execution_count": 15,
   "metadata": {
    "collapsed": true,
    "scrolled": false
   },
   "outputs": [],
   "source": [
    "def twit_req(tweet, tweet_dict=dict()):\n",
    "    tweet_list = []\n",
    "    tweet_id = tweet[\"id\"]\n",
    "    tweet_us = tweet[\"user\"][\"screen_name\"]\n",
    "    tweet_req = []\n",
    "    print(tweet_id)\n",
    "    for tags in tweet[\"entities\"][\"user_mentions\"]:\n",
    "        if tags[\"screen_name\"] != \"NotAScamBot\":\n",
    "            tweet_req.append(tags[\"screen_name\"])\n",
    "    \n",
    "    tweet_dict = {\"id\":tweet_id,\"user\":tweet_us,\"analysis_requests\":tweet_req}\n",
    "    return tweet_dict"
   ]
  },
  {
   "cell_type": "code",
   "execution_count": 16,
   "metadata": {
    "collapsed": true
   },
   "outputs": [],
   "source": [
    "def sent_analysis(recent_tweets, sent_result=list()):\n",
    "    sent_results = []\n",
    "    for tweet in recent_tweets:\n",
    "        new_tweet = clean(tweet)\n",
    "        sent_result = analyzer.polarity_scores(new_tweet[\"text\"])\n",
    "        sent_result.update({\"tweet_id\":new_tweet[\"id\"]})\n",
    "        sent_results.append(sent_result)    \n",
    "    return sent_results"
   ]
  },
  {
   "cell_type": "code",
   "execution_count": 17,
   "metadata": {
    "collapsed": true
   },
   "outputs": [],
   "source": [
    "def rm_noise(tweet, category, key, tweet_result=dict()):\n",
    "    try:\n",
    "        tweet_result = tweet\n",
    "        tweet_text = tweet.get(\"text\")\n",
    "        tweet_stuff = tweet.get(\"entities\").get(category)\n",
    "        for stuff in tweet_stuff:\n",
    "            replace_str = stuff[key]\n",
    "            tweet_text = tweet_text.replace(replace_str,\" \")\n",
    "        tweet[\"text\"] = tweet_text\n",
    "    except TypeError:\n",
    "        pass\n",
    "    return tweet_result\n"
   ]
  },
  {
   "cell_type": "code",
   "execution_count": 18,
   "metadata": {
    "collapsed": true
   },
   "outputs": [],
   "source": [
    "def clean(tweet,tweet_result=dict()):\n",
    "    tweet_result = tweet\n",
    "    tweet_result = rm_noise(tweet_result,\"user_mentions\",\"screen_name\")\n",
    "    tweet_result = rm_noise(tweet_result,\"urls\",\"url\")\n",
    "    tweet_result = rm_noise(tweet_result,\"media\",\"url\")\n",
    "    tweet_result[\"text\"] = tweet_result[\"text\"].replace(\"@\",\"\")\n",
    "    return tweet_result"
   ]
  },
  {
   "cell_type": "code",
   "execution_count": 19,
   "metadata": {
    "collapsed": true
   },
   "outputs": [],
   "source": [
    "def plot_sentiments(title,sentiments):\n",
    "    df = pd.DataFrame(sentiments)\n",
    "    df = df.reset_index()\n",
    "    df.plot( 'index', 'compound', linestyle='-', marker='o',alpha=0.50)\n",
    "    plt.ylabel(\"Tweet Polarity\")\n",
    "    plt.xlabel(\"Number of Tweets\")\n",
    "    plt.title(title)\n",
    "    \n",
    "    filename = \"Sentiment_Analysis_for_\"+title+\".png\"\n",
    "    plt.savefig(filename)\n",
    "    \n",
    "    return filename"
   ]
  },
  {
   "cell_type": "code",
   "execution_count": 20,
   "metadata": {
    "collapsed": true
   },
   "outputs": [],
   "source": [
    "def look(since_tweet_id):\n",
    "    handle = \"@NotAScamBot\"\n",
    "\n",
    "    res = api.search(handle,since_id = since_tweet_id)\n",
    "\n",
    "    if(len(res[\"statuses\"]) > 0):\n",
    "        tweet_list = []\n",
    "\n",
    "        for tweet in res[\"statuses\"]:\n",
    "            tweet_list.append(twit_req(tweet))\n",
    "        \n",
    "        for item in tweet_list:\n",
    "\n",
    "            recent_tweets = []\n",
    "\n",
    "            for analyze_req in item[\"analysis_requests\"]:\n",
    "\n",
    "                recent_tweets = api.user_timeline(analyze_req,count=200)\n",
    "\n",
    "                if(len(recent_tweets) > 0):\n",
    "                    sentiments = sent_analysis(recent_tweets)\n",
    "                    sentiment_fig = plot_sentiments(analyze_req,sentiments)\n",
    "                    text_status = f\"{datetime.now()} - You only want me for my sentiments @{item['user']}!\"\n",
    "                    api.update_with_media(filename=sentiment_fig,status=text_status,in_reply_to_status_id=item[\"id\"])\n",
    "                else:\n",
    "                    text_status = f\"{datetime.now()} - No tweets for @{item['user']}! {analyze_request} is a loser!\" \n",
    "                    api.update_status(text_status)\n",
    "                time.sleep(300)\n",
    "                plt.show()\n",
    "        return res[\"statuses\"][0][\"id\"]\n",
    "    else:\n",
    "        return since_tweet_id"
   ]
  },
  {
   "cell_type": "code",
   "execution_count": null,
   "metadata": {
    "scrolled": true
   },
   "outputs": [],
   "source": [
    "since_tweet_id = 971036516947554305\n",
    "while True:\n",
    "    since_tweet_id = look(since_tweet_id)\n",
    "    time.sleep(300)\n"
   ]
  },
  {
   "cell_type": "code",
   "execution_count": null,
   "metadata": {
    "collapsed": true
   },
   "outputs": [],
   "source": []
  }
 ],
 "metadata": {
  "kernelspec": {
   "display_name": "Python 3",
   "language": "python",
   "name": "python3"
  },
  "language_info": {
   "codemirror_mode": {
    "name": "ipython",
    "version": 3
   },
   "file_extension": ".py",
   "mimetype": "text/x-python",
   "name": "python",
   "nbconvert_exporter": "python",
   "pygments_lexer": "ipython3",
   "version": "3.6.3"
  }
 },
 "nbformat": 4,
 "nbformat_minor": 2
}
